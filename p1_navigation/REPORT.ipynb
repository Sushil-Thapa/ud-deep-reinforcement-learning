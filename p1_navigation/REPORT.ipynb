{
 "cells": [
  {
   "cell_type": "markdown",
   "metadata": {},
   "source": [
    "\n",
    "\n",
    "# Project 1: Navigation\n",
    "\n",
    "Author: [Sushil Thapa](http://github.com/Sushil-Thapa) "
   ]
  },
  {
   "cell_type": "markdown",
   "metadata": {},
   "source": [
    "## REPORT"
   ]
  },
  {
   "cell_type": "markdown",
   "metadata": {},
   "source": [
    "## Description\n",
    "The project demonstrates the ability of value-based methods, specifically, [Deep Q-learning](https://storage.googleapis.com/deepmind-media/dqn/DQNNaturePaper.pdf) to learn a suitable policy in a model-free Reinforcement Learning setting using a Unity environment.  "
   ]
  },
  {
   "cell_type": "markdown",
   "metadata": {},
   "source": [
    "\n",
    "[//]: # (Image References)\n",
    "\n",
    "[image1]: https://user-images.githubusercontent.com/10624937/42135619-d90f2f28-7d12-11e8-8823-82b970a54d7e.gif \"Trained Agent\"\n",
    "\n",
    "For this project, we trained an agent to navigate (and collect bananas!) in a large, square world.  \n",
    "\n",
    "![Trained Agent][image1]\n",
    "\n",
    "A reward of +1 is provided for collecting a yellow banana, and a reward of -1 is provided for collecting a blue banana.  Thus, the goal of our agent is to collect as many yellow bananas as possible while avoiding blue bananas.  \n",
    "\n",
    "The state space has 37 dimensions and contains the agent's velocity, along with ray-based perception of objects around agent's forward direction.  Given this information, the agent has to learn how to best select actions.  Four discrete actions are available, corresponding to:\n",
    "- **`0`** - move forward.\n",
    "- **`1`** - move backward.\n",
    "- **`2`** - turn left.\n",
    "- **`3`** - turn right.\n",
    "\n",
    "The task is episodic, and in order to solve the environment, our agent got an average score of +13 over 100 consecutive episodes."
   ]
  },
  {
   "cell_type": "markdown",
   "metadata": {},
   "source": [
    "For this project, we trained an agent to navigate (and collect bananas!) in a large, square world.  \n",
    "\n",
    "\n",
    "## Algorithm\n",
    "\n",
    "We used deep Q-learning that can learn successful policies directly from high-dimensional sensoryinputs using end-to-end reinforcement learning. With only the pixels and the game score as inputs we can train same network for a number of atari games as well as the banana game mentioned above.   \n",
    "\n",
    "We parameterize an approximate value function $Q(s,a;\\theta_{i})$ using the deep neural network which $\\theta_i$ are the parameters (that is, weights) of the Q-network at iteration i. \n",
    "\n",
    "During learning, we\n",
    "apply Q-learning updates, on samples (or minibatches) of experience drawn uniformly at random from the pool of stored samples.\n",
    "\n",
    "Here is the schematic illustration of CNN based Deep-Q learning proposed by the official Paper. Note that We used simple ANN based Neural Nets because of its reduced complexity.  \n",
    "![Skematic Illustration](assets/Illustration_cnn_deepQ.png) \n",
    "\n",
    "Also, The algorithm for the Deep Q-Network is shown below.  \n",
    "![Algorithm](assets/algorithm.png) "
   ]
  },
  {
   "cell_type": "markdown",
   "metadata": {},
   "source": [
    "## Training\n",
    "\n",
    "We solved the environment and achieved the required reward of +13 in mere 516 episodes(requirement was to achieve it before 2k episodes). Here is the training graph of the network.\n",
    "\n",
    "![Training Graph](assets/training.png)\n",
    "\n",
    "Here is the overall average summary across episodes.\n",
    "```\n",
    "Episode 100\tAverage Score: 0.45\n",
    "Episode 200\tAverage Score: 2.97\n",
    "Episode 300\tAverage Score: 6.56\n",
    "Episode 400\tAverage Score: 9.43\n",
    "Episode 500\tAverage Score: 11.99\n",
    "Episode 600\tAverage Score: 12.66\n",
    "Episode 616\tAverage Score: 13.05\n",
    "Environment solved in 516 episodes!\tAverage Score: 13.05\n",
    "```\n",
    "\n",
    "### Hyperparameters\n",
    "\n",
    "  Here are the hyperparameters used:  \n",
    "  \n",
    "| Hyperparameter                      | Value |\n",
    "| ----------------------------------- | ----- |\n",
    "| Replay buffer size                  | 1e5   |\n",
    "| Batch size                          | 64    |\n",
    "| $\\gamma$ (discount factor)          | 0.99  |\n",
    "| $\\tau$                              | 1e-3  |\n",
    "| Learning rate                       | 5e-4  |\n",
    "| update interval                     | 4     |\n",
    "| Number of episodes                  | 600   |\n",
    "| Max number of timesteps per episode | 2000  |\n",
    "| Epsilon start                       | 1.0   |\n",
    "| Epsilon minimum                     | 0.1   |\n",
    "| Epsilon decay                       | 0.995 |\n",
    "| Random Seed                         | 42    |\n",
    "  \n",
    "  \n",
    "### Model Configuration  \n",
    "| Model Parameters                    | Value   |\n",
    "| ----------------------------------- | ------- |\n",
    "| Fully Connected Layer 1 (Input)     | (37,512)|\n",
    "| Fully Connected Layer 1             |(512,512)|\n",
    "| Fully Connected Layer 1             |(512,256)|\n",
    "| Fully Connected Layer 1             | (256,64)|\n",
    "| Fully Connected Layer 1 (Output)    | (64,4)  |\n",
    "\n"
   ]
  },
  {
   "cell_type": "markdown",
   "metadata": {},
   "source": [
    "## Visualization\n",
    "\n",
    "| Random Agent                               | ANN-Based DQN                      | \n",
    "| ------------------------------------------ | ---------------------------------- | \n",
    "| ![double-dqn](assets/random_agent.gif)     | ![dqn](assets/trained_agent.gif) | \n"
   ]
  },
  {
   "cell_type": "markdown",
   "metadata": {},
   "source": [
    "## Future Work\n",
    "\n",
    "- Hyperparameter search for DQNs and adding convolutional architecture should lead to better performance too.\n",
    "- Using techniques like Prioritized Replay ([paper](https://arxiv.org/abs/1511.05952)), Dueling Networks or others as well as the combination of all of them(called Rainbow agent) can show a massive improvement over Double DQNs for Atari games and here as well. \n",
    "- Other improvements to the original DQN algorithms like earning from [multi-step bootstrap targets](https://arxiv.org/abs/1602.01783) , [Distributional DQN](https://arxiv.org/abs/1707.06887), [Noisy DQN](https://arxiv.org/abs/1706.10295)"
   ]
  }
 ],
 "metadata": {
  "kernelspec": {
   "display_name": "",
   "name": ""
  },
  "language_info": {
   "name": ""
  }
 },
 "nbformat": 4,
 "nbformat_minor": 4
}
