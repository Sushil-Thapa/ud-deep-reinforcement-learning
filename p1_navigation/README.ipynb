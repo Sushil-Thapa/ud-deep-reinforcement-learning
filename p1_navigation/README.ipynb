{
 "cells": [
  {
   "cell_type": "markdown",
   "metadata": {},
   "source": [
    "[//]: # (Image References)\n",
    "\n",
    "[image1]: https://user-images.githubusercontent.com/10624937/42135619-d90f2f28-7d12-11e8-8823-82b970a54d7e.gif \"Trained Agent\"\n",
    "\n",
    "# Project 1: Navigation\n",
    "\n",
    "### Introduction\n",
    "\n",
    "For this project, we trained an agent to navigate (and collect bananas!) in a large, square world.  \n",
    "\n",
    "![Trained Agent][image1]\n",
    "\n",
    "A reward of +1 is provided for collecting a yellow banana, and a reward of -1 is provided for collecting a blue banana.  Thus, the goal of our agent is to collect as many yellow bananas as possible while avoiding blue bananas.  \n",
    "\n",
    "The state space has 37 dimensions and contains the agent's velocity, along with ray-based perception of objects around agent's forward direction.  Given this information, the agent has to learn how to best select actions.  Four discrete actions are available, corresponding to:\n",
    "- **`0`** - move forward.\n",
    "- **`1`** - move backward.\n",
    "- **`2`** - turn left.\n",
    "- **`3`** - turn right.\n",
    "\n",
    "The task is episodic, and in order to solve the environment, our agent got an average score of +13 over 100 consecutive episodes.\n",
    "\n",
    "### Getting Started\n",
    "\n",
    "1. Download the environment from one of the links below.  You need only select the environment that matches your operating system:\n",
    "    - Linux: [click here](https://s3-us-west-1.amazonaws.com/udacity-drlnd/P1/Banana/Banana_Linux.zip)\n",
    "    - Mac OSX: [click here](https://s3-us-west-1.amazonaws.com/udacity-drlnd/P1/Banana/Banana.app.zip)\n",
    "    - Windows (32-bit): [click here](https://s3-us-west-1.amazonaws.com/udacity-drlnd/P1/Banana/Banana_Windows_x86.zip)\n",
    "    - Windows (64-bit): [click here](https://s3-us-west-1.amazonaws.com/udacity-drlnd/P1/Banana/Banana_Windows_x86_64.zip)\n",
    "    \n",
    "    (_For Windows users_) Check out [this link](https://support.microsoft.com/en-us/help/827218/how-to-determine-whether-a-computer-is-running-a-32-bit-version-or-64) if you need help with determining if your computer is running a 32-bit version or 64-bit version of the Windows operating system.\n",
    "\n",
    "    (_For AWS_) If you'd like to train the agent on AWS (and have not [enabled a virtual screen](https://github.com/Unity-Technologies/ml-agents/blob/master/docs/Training-on-Amazon-Web-Service.md)), then please use [this link](https://s3-us-west-1.amazonaws.com/udacity-drlnd/P1/Banana/Banana_Linux_NoVis.zip) to obtain the environment.\n",
    "\n",
    "2. Place the file in this GitHub repository, in the `p1_navigation/` folder, and unzip (or decompress) the file. \n",
    "\n",
    "### Dependencies\n",
    "Create and activate the Conda(Version : 4.8.3) environment, Install dependencies from `requirements.txt` by\n",
    "  ```\n",
    "  conda create -n drlnd python=3.6\n",
    "  conda activate drlnd\n",
    "  pip install -r requirements.txt\n",
    "  ```\n",
    "\n",
    "### Instructions\n",
    "\n",
    "Follow the instructions in `Navigation.ipynb` to get started with training your own agent!  \n",
    "Note: You might need to create custom ipython kernel to select drlnd conda environment in the notebook.\n",
    "```\n",
    "python -m ipykernel install --user --name drlnd --display-name \"drlnd\"\n",
    "```\n",
    "\n",
    "In the project, Our agent learned from information such as its velocity, along with ray-based perception of objects around its forward direction.  "
   ]
  },
  {
   "cell_type": "markdown",
   "metadata": {},
   "source": [
    "## File Description\n",
    "\n",
    "- `dqn_agent.py`: code for the agent behaviour used in the environment\n",
    "- `model.py`: code containing the QNetwork used as the function approximator by the agent\n",
    "- `checkpoint.pth`: saved model weights for the original DQN model\n",
    "- `Navigation.ipynb`: notebook containing the solution with simple ANN QNetwork\n",
    "- `requirements.txt`: Dependencies"
   ]
  }
 ],
 "metadata": {
  "kernelspec": {
   "display_name": "Python 3",
   "language": "python",
   "name": "python3"
  },
  "language_info": {
   "codemirror_mode": {
    "name": "ipython",
    "version": 3
   },
   "file_extension": ".py",
   "mimetype": "text/x-python",
   "name": "python",
   "nbconvert_exporter": "python",
   "pygments_lexer": "ipython3",
   "version": "3.6.10"
  }
 },
 "nbformat": 4,
 "nbformat_minor": 4
}
